{
 "cells": [
  {
   "metadata": {},
   "cell_type": "markdown",
   "source": [
    "## Homework\n",
    "\n",
    "> Note: sometimes your answer doesn't match one of\n",
    "> the options exactly. That's fine.\n",
    "> Select the option that's closest to your solution.\n",
    "\n",
    "\n",
    "In this homework, we will use the lead scoring dataset Bank Marketing dataset. Download it from [here](https://raw.githubusercontent.com/alexeygrigorev/datasets/master/course_lead_scoring.csv).\n",
    "\n",
    "\n",
    "In this dataset our desired target for classification task will be `converted` variable - has the client signed up to the platform or not.\n",
    "\n",
    "### Data preparation\n",
    "\n",
    "* Check if the missing values are presented in the features.\n",
    "* If there are missing values:\n",
    "    * For caterogiral features, replace them with 'NA'\n",
    "    * For numerical features, replace with with 0.0\n",
    "\n",
    "\n",
    "Split the data into 3 parts: train/validation/test with 60%/20%/20% distribution. Use `train_test_split` function for that with `random_state=1`\n",
    "\n"
   ],
   "id": "22f2d2955fb733e5"
  },
  {
   "metadata": {
    "ExecuteTime": {
     "end_time": "2025-10-19T18:26:37.769862Z",
     "start_time": "2025-10-19T18:26:37.734507Z"
    }
   },
   "cell_type": "code",
   "source": [
    "import pandas as pd\n",
    "import numpy as np\n",
    "import matplotlib.pyplot as plt\n",
    "from sklearn.model_selection import train_test_split, KFold\n",
    "from sklearn.feature_extraction import DictVectorizer\n",
    "from sklearn.linear_model import LogisticRegression\n",
    "from sklearn.metrics import roc_auc_score, precision_recall_curve\n",
    "import warnings\n",
    "from sklearn.exceptions import ConvergenceWarning\n",
    "warnings.filterwarnings(\"ignore\", category=ConvergenceWarning)\n",
    "\n",
    "print(\"=== DATA PREPARATION ===\")\n",
    "\n",
    "# Load and examine data\n",
    "df = pd.read_csv(\"course_lead_scoring.csv\")\n",
    "print(f\"Dataset shape: {df.shape}\")\n",
    "print(f\"\\nColumns: {list(df.columns)}\")\n",
    "print(f\"\\nTarget variable distribution:\")\n",
    "print(df['converted'].value_counts())\n",
    "\n",
    "# Check for missing values\n",
    "print(f\"\\nMissing values per column:\")\n",
    "missing_values = df.isnull().sum()\n",
    "print(missing_values[missing_values > 0])\n",
    "\n",
    "# Handle missing values\n",
    "print(\"\\nHandling missing values...\")\n",
    "\n",
    "# Identify numerical and categorical columns\n",
    "numerical_cols = df.select_dtypes(include=[np.number]).columns.tolist()\n",
    "categorical_cols = df.select_dtypes(include=['object']).columns.tolist()\n",
    "\n",
    "# Remove target from lists if present\n",
    "if 'converted' in numerical_cols:\n",
    "    numerical_cols.remove('converted')\n",
    "if 'converted' in categorical_cols:\n",
    "    categorical_cols.remove('converted')\n",
    "\n",
    "print(f\"Numerical columns: {numerical_cols}\")\n",
    "print(f\"Categorical columns: {categorical_cols}\")\n",
    "\n",
    "# Fill missing values\n",
    "for col in categorical_cols:\n",
    "    df[col] = df[col].fillna('NA')\n",
    "\n",
    "for col in numerical_cols:\n",
    "    df[col] = df[col].fillna(0.0)\n",
    "\n",
    "print(\"Missing values after handling:\")\n",
    "print(df.isnull().sum().sum())\n",
    "\n",
    "# Split data\n",
    "print(\"\\n=== DATA SPLITTING ===\")\n",
    "\n",
    "# First split: 60% train, 40% temp\n",
    "df_train, df_temp = train_test_split(df, test_size=0.4, random_state=1, stratify=df['converted'])\n",
    "\n",
    "# Second split: 20% validation, 20% test (from the 40% temp)\n",
    "df_val, df_test = train_test_split(df_temp, test_size=0.5, random_state=1, stratify=df_temp['converted'])\n",
    "\n",
    "df_full_train = pd.concat([df_train, df_val])\n"
   ],
   "id": "a8940b2716558e5e",
   "outputs": [
    {
     "name": "stdout",
     "output_type": "stream",
     "text": [
      "=== DATA PREPARATION ===\n",
      "Dataset shape: (1462, 9)\n",
      "\n",
      "Columns: ['lead_source', 'industry', 'number_of_courses_viewed', 'annual_income', 'employment_status', 'location', 'interaction_count', 'lead_score', 'converted']\n",
      "\n",
      "Target variable distribution:\n",
      "converted\n",
      "1    905\n",
      "0    557\n",
      "Name: count, dtype: int64\n",
      "\n",
      "Missing values per column:\n",
      "lead_source          128\n",
      "industry             134\n",
      "annual_income        181\n",
      "employment_status    100\n",
      "location              63\n",
      "dtype: int64\n",
      "\n",
      "Handling missing values...\n",
      "Numerical columns: ['number_of_courses_viewed', 'annual_income', 'interaction_count', 'lead_score']\n",
      "Categorical columns: ['lead_source', 'industry', 'employment_status', 'location']\n",
      "Missing values after handling:\n",
      "0\n",
      "\n",
      "=== DATA SPLITTING ===\n"
     ]
    }
   ],
   "execution_count": 53
  },
  {
   "metadata": {},
   "cell_type": "markdown",
   "source": [
    "\n",
    "### Question 1: ROC AUC feature importance\n",
    "\n",
    "ROC AUC could also be used to evaluate feature importance of numerical variables.\n",
    "\n",
    "Let's do that\n",
    "\n",
    "* For each numerical variable, use it as score (aka prediction) and compute the AUC with the `y` variable as ground truth.\n",
    "* Use the training dataset for that\n",
    "\n",
    "\n",
    "If your AUC is < 0.5, invert this variable by putting \"-\" in front\n",
    "\n",
    "(e.g. `-df_train['balance']`)\n",
    "\n",
    "AUC can go below 0.5 if the variable is negatively correlated with the target variable. You can change the direction of the correlation by negating this variable - then negative correlation becomes positive.\n",
    "\n",
    "Which numerical variable (among the following 4) has the highest AUC?\n",
    "\n",
    "- `lead_score`\n",
    "- `number_of_courses_viewed`\n",
    "- `interaction_count`\n",
    "- `annual_income`\n"
   ],
   "id": "30748c852901254d"
  },
  {
   "metadata": {
    "ExecuteTime": {
     "end_time": "2025-10-19T18:26:54.544324Z",
     "start_time": "2025-10-19T18:26:54.522823Z"
    }
   },
   "cell_type": "code",
   "source": [
    "print(\"\\n=== QUESTION 1: ROC AUC FEATURE IMPORTANCE ===\")\n",
    "\n",
    "y_train = df_train['converted'].values\n",
    "\n",
    "# Check which numerical columns we have\n",
    "target_numerical_cols = ['lead_score', 'number_of_courses_viewed', 'interaction_count', 'annual_income']\n",
    "available_cols = [col for col in target_numerical_cols if col in df_train.columns]\n",
    "print(f\"Available numerical columns from the list: {available_cols}\")\n",
    "\n",
    "# If the exact column names don't exist, let's see what we have\n",
    "print(f\"All numerical columns in dataset: {[col for col in df_train.columns if df_train[col].dtype in ['int64', 'float64'] and col != 'converted']}\")\n",
    "\n",
    "# Calculate AUC for each numerical variable\n",
    "auc_scores = {}\n",
    "\n",
    "for col in numerical_cols:\n",
    "    if col in df_train.columns:\n",
    "        X_col = df_train[col].values\n",
    "        auc = roc_auc_score(y_train, X_col)\n",
    "\n",
    "        # If AUC < 0.5, invert the variable\n",
    "        if auc < 0.5:\n",
    "            auc = roc_auc_score(y_train, -X_col)\n",
    "            print(f\"{col}: AUC = {auc:.4f} (inverted)\")\n",
    "        else:\n",
    "            print(f\"{col}: AUC = {auc:.4f}\")\n",
    "\n",
    "        auc_scores[col] = auc\n",
    "\n",
    "# Find the column with highest AUC among the target columns\n",
    "target_aucs = {col: auc_scores.get(col, 0) for col in target_numerical_cols if col in auc_scores}\n",
    "if target_aucs:\n",
    "    best_feature = max(target_aucs, key=target_aucs.get)\n",
    "    print(f\"\\nHighest AUC among target features: {best_feature} with AUC = {target_aucs[best_feature]:.4f}\")\n"
   ],
   "id": "2eb507efa4e6ffb",
   "outputs": [
    {
     "name": "stdout",
     "output_type": "stream",
     "text": [
      "\n",
      "=== QUESTION 1: ROC AUC FEATURE IMPORTANCE ===\n",
      "Available numerical columns from the list: ['lead_score', 'number_of_courses_viewed', 'interaction_count', 'annual_income']\n",
      "All numerical columns in dataset: ['number_of_courses_viewed', 'annual_income', 'interaction_count', 'lead_score']\n",
      "number_of_courses_viewed: AUC = 0.7648\n",
      "annual_income: AUC = 0.5545\n",
      "interaction_count: AUC = 0.7227\n",
      "lead_score: AUC = 0.6107\n",
      "\n",
      "Highest AUC among target features: number_of_courses_viewed with AUC = 0.7648\n"
     ]
    }
   ],
   "execution_count": 55
  },
  {
   "metadata": {},
   "cell_type": "markdown",
   "source": [
    "\n",
    "### Question 2: Training the model\n",
    "\n",
    "Apply one-hot-encoding using `DictVectorizer` and train the logistic regression with these parameters:\n",
    "\n",
    "```python\n",
    "LogisticRegression(solver='liblinear', C=1.0, max_iter=1000)\n",
    "```\n",
    "\n",
    "What's the AUC of this model on the validation dataset? (round to 3 digits)\n",
    "\n",
    "- 0.32\n",
    "- 0.52\n",
    "- 0.72\n",
    "- 0.92\n",
    "\n"
   ],
   "id": "5f07c4ea9d1fc2f4"
  },
  {
   "metadata": {
    "ExecuteTime": {
     "end_time": "2025-10-19T18:27:20.681181Z",
     "start_time": "2025-10-19T18:27:20.642847Z"
    }
   },
   "cell_type": "code",
   "source": [
    "print(\"\\n=== QUESTION 2: TRAINING THE MODEL ===\")\n",
    "\n",
    "# Prepare data for training\n",
    "def prepare_data(df):\n",
    "    # Convert to dictionary format for DictVectorizer\n",
    "    df_dict = df[categorical_cols + numerical_cols].to_dict(orient='records')\n",
    "    return df_dict\n",
    "\n",
    "# Prepare training and validation data\n",
    "train_dicts = prepare_data(df_train)\n",
    "val_dicts = prepare_data(df_val)\n",
    "\n",
    "y_train = df_train['converted'].values\n",
    "y_val = df_val['converted'].values\n",
    "\n",
    "# One-hot encoding\n",
    "dv = DictVectorizer(sparse=False)\n",
    "X_train = dv.fit_transform(train_dicts)\n",
    "X_val = dv.transform(val_dicts)\n",
    "\n",
    "print(f\"Training features shape: {X_train.shape}\")\n",
    "print(f\"Validation features shape: {X_val.shape}\")\n",
    "\n",
    "# Train logistic regression\n",
    "model = LogisticRegression(solver='liblinear', C=1.0, max_iter=1000)\n",
    "model.fit(X_train, y_train)\n",
    "\n",
    "# Evaluate on validation set\n",
    "y_pred_val = model.predict_proba(X_val)[:, 1]\n",
    "auc_val = roc_auc_score(y_val, y_pred_val)\n",
    "\n",
    "print(f\"Validation AUC: {auc_val:.3f}\")"
   ],
   "id": "da3201358152f570",
   "outputs": [
    {
     "name": "stdout",
     "output_type": "stream",
     "text": [
      "\n",
      "=== QUESTION 2: TRAINING THE MODEL ===\n",
      "Training features shape: (877, 31)\n",
      "Validation features shape: (292, 31)\n",
      "Validation AUC: 0.866\n"
     ]
    }
   ],
   "execution_count": 56
  },
  {
   "metadata": {},
   "cell_type": "markdown",
   "source": [
    "\n",
    "### Question 3: Precision and Recall\n",
    "\n",
    "Now let's compute precision and recall for our model.\n",
    "\n",
    "* Evaluate the model on all thresholds from 0.0 to 1.0 with step 0.01\n",
    "* For each threshold, compute precision and recall\n",
    "* Plot them\n",
    "\n",
    "At which threshold precision and recall curves intersect?\n",
    "\n",
    "* 0.145\n",
    "* 0.345\n",
    "* 0.545\n",
    "* 0.745\n",
    "\n"
   ],
   "id": "6980d6466d90dfab"
  },
  {
   "metadata": {},
   "cell_type": "markdown",
   "source": "",
   "id": "243cd3d669765b5d"
  },
  {
   "metadata": {
    "ExecuteTime": {
     "end_time": "2025-10-19T18:28:11.367505Z",
     "start_time": "2025-10-19T18:28:11.137804Z"
    }
   },
   "cell_type": "code",
   "source": [
    "print(\"\\n=== QUESTION 3: PRECISION AND RECALL ===\")\n",
    "\n",
    "# Calculate precision and recall for different thresholds\n",
    "thresholds = np.arange(0.0, 0.9, 0.01)\n",
    "precisions = []\n",
    "recalls = []\n",
    "\n",
    "for threshold in thresholds:\n",
    "    y_pred_binary = (y_pred_val >= threshold).astype(int)\n",
    "\n",
    "    # Calculate precision and recall manually\n",
    "    tp = np.sum((y_pred_binary == 1) & (y_val == 1))\n",
    "    fp = np.sum((y_pred_binary == 1) & (y_val == 0))\n",
    "    fn = np.sum((y_pred_binary == 0) & (y_val == 1))\n",
    "\n",
    "    precision = tp / (tp + fp) if (tp + fp) > 0 else 0\n",
    "    recall = tp / (tp + fn) if (tp + fn) > 0 else 0\n",
    "\n",
    "    precisions.append(precision)\n",
    "    recalls.append(recall)\n",
    "\n",
    "# Plot precision and recall curves\n",
    "plt.figure(figsize=(10, 6))\n",
    "plt.plot(thresholds, precisions, label='Precision', linewidth=2)\n",
    "plt.plot(thresholds, recalls, label='Recall', linewidth=2)\n",
    "plt.xlabel('Threshold')\n",
    "plt.ylabel('Score')\n",
    "plt.title('Precision and Recall vs Threshold')\n",
    "plt.legend()\n",
    "plt.grid(True, alpha=0.3)\n",
    "plt.show()\n",
    "\n",
    "# Find intersection point\n",
    "differences = np.abs(np.array(precisions) - np.array(recalls))\n",
    "intersection_idx = np.argmin(differences)\n",
    "intersection_threshold = thresholds[intersection_idx]\n",
    "\n",
    "print(f\"Precision and Recall curves intersect at threshold: {intersection_threshold:.3f}\")\n"
   ],
   "id": "4314adbff310454a",
   "outputs": [
    {
     "name": "stdout",
     "output_type": "stream",
     "text": [
      "\n",
      "=== QUESTION 3: PRECISION AND RECALL ===\n"
     ]
    },
    {
     "data": {
      "text/plain": [
       "<Figure size 1000x600 with 1 Axes>"
      ],
      "image/png": "[encoded data removed]"
     },
     "metadata": {},
     "output_type": "display_data"
    },
    {
     "name": "stdout",
     "output_type": "stream",
     "text": [
      "Precision and Recall curves intersect at threshold: 0.620\n"
     ]
    }
   ],
   "execution_count": 58
  },
  {
   "metadata": {},
   "cell_type": "markdown",
   "source": [
    "\n",
    "### Question 4: F1 score\n",
    "\n",
    "Precision and recall are conflicting - when one grows, the other goes down. That's why they are often combined into the F1 score - a metrics that takes into account both\n",
    "\n",
    "This is the formula for computing F1:\n",
    "\n",
    "$$F_1 = 2 \\cdot \\cfrac{P \\cdot R}{P + R}$$\n",
    "\n",
    "Where $P$ is precision and $R$ is recall.\n",
    "\n",
    "Let's compute F1 for all thresholds from 0.0 to 1.0 with increment 0.01\n",
    "\n",
    "At which threshold F1 is maximal?\n",
    "\n",
    "- 0.14\n",
    "- 0.34\n",
    "- 0.54\n",
    "- 0.74\n",
    "\n"
   ],
   "id": "a264cd61869999f9"
  },
  {
   "metadata": {
    "ExecuteTime": {
     "end_time": "2025-10-19T18:28:51.784750Z",
     "start_time": "2025-10-19T18:28:51.540661Z"
    }
   },
   "cell_type": "code",
   "source": [
    "print(\"\\n=== QUESTION 4: F1 SCORE ===\")\n",
    "\n",
    "# Calculate F1 scores\n",
    "f1_scores = []\n",
    "\n",
    "for i in range(len(precisions)):\n",
    "    p, r = precisions[i], recalls[i]\n",
    "    f1 = 2 * (p * r) / (p + r) if (p + r) > 0 else 0\n",
    "    f1_scores.append(f1)\n",
    "\n",
    "# Find maximum F1 score\n",
    "max_f1_idx = np.argmax(f1_scores)\n",
    "max_f1_threshold = thresholds[max_f1_idx]\n",
    "max_f1_score = f1_scores[max_f1_idx]\n",
    "\n",
    "print(f\"Maximum F1 score: {max_f1_score:.4f} at threshold: {max_f1_threshold:.2f}\")\n",
    "\n",
    "# Plot F1 score\n",
    "plt.figure(figsize=(10, 6))\n",
    "plt.plot(thresholds, f1_scores, label='F1 Score', linewidth=2, color='green')\n",
    "plt.axvline(x=max_f1_threshold, color='red', linestyle='--', alpha=0.7, label=f'Max F1 at {max_f1_threshold:.2f}')\n",
    "plt.xlabel('Threshold')\n",
    "plt.ylabel('F1 Score')\n",
    "plt.title('F1 Score vs Threshold')\n",
    "plt.legend()\n",
    "plt.grid(True, alpha=0.3)\n",
    "plt.show()\n"
   ],
   "id": "2ae3c3f92586db3a",
   "outputs": [
    {
     "name": "stdout",
     "output_type": "stream",
     "text": [
      "\n",
      "=== QUESTION 4: F1 SCORE ===\n",
      "Maximum F1 score: 0.8756 at threshold: 0.58\n"
     ]
    },
    {
     "data": {
      "text/plain": [
       "<Figure size 1000x600 with 1 Axes>"
      ],
      "image/png": "[encoded data removed]"
     },
     "metadata": {},
     "output_type": "display_data"
    }
   ],
   "execution_count": 59
  },
  {
   "metadata": {},
   "cell_type": "markdown",
   "source": [
    "\n",
    "### Question 5: 5-Fold CV\n",
    "\n",
    "\n",
    "Use the `KFold` class from Scikit-Learn to evaluate our model on 5 different folds:\n",
    "\n",
    "```\n",
    "KFold(n_splits=5, shuffle=True, random_state=1)\n",
    "```\n",
    "\n",
    "* Iterate over different folds of `df_full_train`\n",
    "* Split the data into train and validation\n",
    "* Train the model on train with these parameters: `LogisticRegression(solver='liblinear', C=1.0, max_iter=1000)`\n",
    "* Use AUC to evaluate the model on validation\n",
    "\n",
    "How large is standard deviation of the scores across different folds?\n",
    "\n",
    "- 0.0001\n",
    "- 0.006\n",
    "- 0.06\n",
    "- 0.36\n",
    "\n"
   ],
   "id": "f7c7b1b766dbadde"
  },
  {
   "metadata": {},
   "cell_type": "markdown",
   "source": "",
   "id": "727c38da0ae04c98"
  },
  {
   "metadata": {
    "ExecuteTime": {
     "end_time": "2025-10-19T18:29:12.027207Z",
     "start_time": "2025-10-19T18:29:11.872142Z"
    }
   },
   "cell_type": "code",
   "source": [
    "print(\"\\n=== QUESTION 5: 5-FOLD CV ===\")\n",
    "\n",
    "# Prepare full training data\n",
    "full_train_dicts = prepare_data(df_full_train)\n",
    "y_full_train = df_full_train['converted'].values\n",
    "\n",
    "# 5-fold cross-validation\n",
    "kfold = KFold(n_splits=5, shuffle=True, random_state=1)\n",
    "cv_scores = []\n",
    "\n",
    "for fold, (train_idx, val_idx) in enumerate(kfold.split(df_full_train)):\n",
    "    # Split data\n",
    "    df_fold_train = df_full_train.iloc[train_idx]\n",
    "    df_fold_val = df_full_train.iloc[val_idx]\n",
    "\n",
    "    # Prepare data\n",
    "    fold_train_dicts = prepare_data(df_fold_train)\n",
    "    fold_val_dicts = prepare_data(df_fold_val)\n",
    "\n",
    "    y_fold_train = df_fold_train['converted'].values\n",
    "    y_fold_val = df_fold_val['converted'].values\n",
    "\n",
    "    # Transform data\n",
    "    dv_fold = DictVectorizer(sparse=False)\n",
    "    X_fold_train = dv_fold.fit_transform(fold_train_dicts)\n",
    "    X_fold_val = dv_fold.transform(fold_val_dicts)\n",
    "\n",
    "    # Train model\n",
    "    model_fold = LogisticRegression(solver='liblinear', C=1.0, max_iter=1000)\n",
    "    model_fold.fit(X_fold_train, y_fold_train)\n",
    "\n",
    "    # Evaluate\n",
    "    y_pred_fold = model_fold.predict_proba(X_fold_val)[:, 1]\n",
    "    auc_fold = roc_auc_score(y_fold_val, y_pred_fold)\n",
    "    cv_scores.append(auc_fold)\n",
    "\n",
    "    print(f\"Fold {fold + 1}: AUC = {auc_fold:.4f}\")\n",
    "\n",
    "cv_mean = np.mean(cv_scores)\n",
    "cv_std = np.std(cv_scores)\n",
    "\n",
    "print(f\"\\nCross-validation results:\")\n",
    "print(f\"Mean AUC: {cv_mean:.4f}\")\n",
    "print(f\"Standard deviation: {cv_std:.4f}\")\n"
   ],
   "id": "69974030462f1ba6",
   "outputs": [
    {
     "name": "stdout",
     "output_type": "stream",
     "text": [
      "\n",
      "=== QUESTION 5: 5-FOLD CV ===\n",
      "Fold 1: AUC = 0.8198\n",
      "Fold 2: AUC = 0.8371\n",
      "Fold 3: AUC = 0.8759\n",
      "Fold 4: AUC = 0.8112\n",
      "Fold 5: AUC = 0.7836\n",
      "\n",
      "Cross-validation results:\n",
      "Mean AUC: 0.8255\n",
      "Standard deviation: 0.0306\n"
     ]
    }
   ],
   "execution_count": 60
  },
  {
   "metadata": {},
   "cell_type": "markdown",
   "source": [
    "\n",
    "### Question 6: Hyperparameter Tuning\n",
    "\n",
    "Now let's use 5-Fold cross-validation to find the best parameter `C`\n",
    "\n",
    "* Iterate over the following `C` values: `[0.000001, 0.001, 1]`\n",
    "* Initialize `KFold` with the same parameters as previously\n",
    "* Use these parameters for the model: `LogisticRegression(solver='liblinear', C=C, max_iter=1000)`\n",
    "* Compute the mean score as well as the std (round the mean and std to 3 decimal digits)\n",
    "\n",
    "Which `C` leads to the best mean score?\n",
    "\n",
    "- 0.000001\n",
    "- 0.001\n",
    "- 1\n",
    "\n",
    "If you have ties, select the score with the lowest std. If you still have ties, select the smallest `C`.\n"
   ],
   "id": "326b774435f822a5"
  },
  {
   "metadata": {
    "ExecuteTime": {
     "end_time": "2025-10-19T18:29:52.021904Z",
     "start_time": "2025-10-19T18:29:51.620686Z"
    }
   },
   "cell_type": "code",
   "source": [
    "print(\"\\n=== QUESTION 6: HYPERPARAMETER TUNING ===\")\n",
    "\n",
    "C_values = [0.000001, 0.001, 1]\n",
    "results = {}\n",
    "\n",
    "for C in C_values:\n",
    "    print(f\"\\nTesting C = {C}\")\n",
    "    cv_scores_c = []\n",
    "\n",
    "    for fold, (train_idx, val_idx) in enumerate(kfold.split(df_full_train)):\n",
    "        # Split data\n",
    "        df_fold_train = df_full_train.iloc[train_idx]\n",
    "        df_fold_val = df_full_train.iloc[val_idx]\n",
    "\n",
    "        # Prepare data\n",
    "        fold_train_dicts = prepare_data(df_fold_train)\n",
    "        fold_val_dicts = prepare_data(df_fold_val)\n",
    "\n",
    "        y_fold_train = df_fold_train['converted'].values\n",
    "        y_fold_val = df_fold_val['converted'].values\n",
    "\n",
    "        # Transform data\n",
    "        dv_fold = DictVectorizer(sparse=False)\n",
    "        X_fold_train = dv_fold.fit_transform(fold_train_dicts)\n",
    "        X_fold_val = dv_fold.transform(fold_val_dicts)\n",
    "\n",
    "        # Train model with specific C\n",
    "        model_fold = LogisticRegression(solver='liblinear', C=C, max_iter=1000)\n",
    "        model_fold.fit(X_fold_train, y_fold_train)\n",
    "\n",
    "        # Evaluate\n",
    "        y_pred_fold = model_fold.predict_proba(X_fold_val)[:, 1]\n",
    "        auc_fold = roc_auc_score(y_fold_val, y_pred_fold)\n",
    "        cv_scores_c.append(auc_fold)\n",
    "\n",
    "    mean_score = np.mean(cv_scores_c)\n",
    "    std_score = np.std(cv_scores_c)\n",
    "    results[C] = {'mean': mean_score, 'std': std_score}\n",
    "\n",
    "    print(f\"C = {C}: Mean = {mean_score:.3f}, Std = {std_score:.3f}\")\n",
    "\n",
    "print(\"\\n=== HYPERPARAMETER TUNING RESULTS ===\")\n",
    "for C, result in results.items():\n",
    "    print(f\"C = {C}: Mean = {result['mean']:.3f}, Std = {result['std']:.3f}\")\n",
    "\n",
    "# Find best C\n",
    "best_mean = max(results.values(), key=lambda x: x['mean'])['mean']\n",
    "best_candidates = [C for C, result in results.items() if result['mean'] == best_mean]\n",
    "\n",
    "if len(best_candidates) == 1:\n",
    "    best_C = best_candidates[0]\n",
    "else:\n",
    "    # If tie in mean, select lowest std\n",
    "    best_std = min([results[C]['std'] for C in best_candidates])\n",
    "    best_candidates = [C for C in best_candidates if results[C]['std'] == best_std]\n",
    "\n",
    "    if len(best_candidates) == 1:\n",
    "        best_C = best_candidates[0]\n",
    "    else:\n",
    "        # If still tie, select smallest C\n",
    "        best_C = min(best_candidates)\n",
    "\n",
    "print(f\"\\nBest C: {best_C}\")"
   ],
   "id": "f964f63c05169295",
   "outputs": [
    {
     "name": "stdout",
     "output_type": "stream",
     "text": [
      "\n",
      "=== QUESTION 6: HYPERPARAMETER TUNING ===\n",
      "\n",
      "Testing C = 1e-06\n",
      "C = 1e-06: Mean = 0.553, Std = 0.014\n",
      "\n",
      "Testing C = 0.001\n",
      "C = 0.001: Mean = 0.867, Std = 0.019\n",
      "\n",
      "Testing C = 1\n",
      "C = 1: Mean = 0.826, Std = 0.031\n",
      "\n",
      "=== HYPERPARAMETER TUNING RESULTS ===\n",
      "C = 1e-06: Mean = 0.553, Std = 0.014\n",
      "C = 0.001: Mean = 0.867, Std = 0.019\n",
      "C = 1: Mean = 0.826, Std = 0.031\n",
      "\n",
      "Best C: 0.001\n"
     ]
    }
   ],
   "execution_count": 61
  },
  {
   "metadata": {},
   "cell_type": "markdown",
   "source": [
    "\n",
    "## Submit the results\n",
    "\n",
    "* Submit your results here: https://courses.datatalks.club/ml-zoomcamp-2025/homework/hw04\n",
    "* If your answer doesn't match options exactly, select the closest one\n"
   ],
   "id": "99b814f5d1702cac"
  },
  {
   "metadata": {
    "ExecuteTime": {
     "end_time": "2025-10-19T17:19:21.483545Z",
     "start_time": "2025-10-19T17:19:21.480657Z"
    }
   },
   "cell_type": "code",
   "source": "",
   "id": "5214200fcd89853e",
   "outputs": [],
   "execution_count": null
  }
 ],
 "metadata": {
  "kernelspec": {
   "display_name": "Python 3",
   "language": "python",
   "name": "python3"
  },
  "language_info": {
   "codemirror_mode": {
    "name": "ipython",
    "version": 2
   },
   "file_extension": ".py",
   "mimetype": "text/x-python",
   "name": "python",
   "nbconvert_exporter": "python",
   "pygments_lexer": "ipython2",
   "version": "2.7.6"
  }
 },
 "nbformat": 4,
 "nbformat_minor": 5
}
