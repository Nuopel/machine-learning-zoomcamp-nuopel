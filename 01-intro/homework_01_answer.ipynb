{
 "cells": [
  {
   "cell_type": "code",
   "id": "initial_id",
   "metadata": {
    "collapsed": true,
    "ExecuteTime": {
     "end_time": "2025-09-25T16:12:04.021958Z",
     "start_time": "2025-09-25T16:12:04.017109Z"
    }
   },
   "source": [
    "# Import necessary libraries\n",
    "import pandas as pd\n",
    "import numpy as np\n",
    "import matplotlib.pyplot as plt\n",
    "import seaborn as sns\n",
    "import warnings"
   ],
   "outputs": [],
   "execution_count": 2
  },
  {
   "metadata": {},
   "cell_type": "markdown",
   "source": [
    "## Homework\n",
    "\n",
    "### Set up the environment\n",
    "\n",
    "You need to install Python, NumPy, Pandas, Matplotlib and Seaborn. For that, you can use the instructions from\n",
    "[06-environment.md](../../../01-intro/06-environment.md).\n"
   ],
   "id": "21151b9c4127711a"
  },
  {
   "metadata": {},
   "cell_type": "markdown",
   "source": [
    "### Q1. Pandas version\n",
    "\n",
    "What's the version of Pandas that you installed?\n",
    "\n",
    "You can get the version information using the `__version__` field:\n",
    "\n",
    "```python\n",
    "pd.__version__\n",
    "```\n"
   ],
   "id": "774fd0727966c29e"
  },
  {
   "metadata": {
    "ExecuteTime": {
     "end_time": "2025-09-25T16:12:04.114059Z",
     "start_time": "2025-09-25T16:12:04.108582Z"
    }
   },
   "cell_type": "code",
   "source": [
    "print(\"\\n=== Q1. Pandas Version ===\")\n",
    "pandas_version = pd.__version__\n",
    "print(f\"Pandas version: {pandas_version}\")"
   ],
   "id": "42ac5de9bb478eed",
   "outputs": [
    {
     "name": "stdout",
     "output_type": "stream",
     "text": [
      "\n",
      "=== Q1. Pandas Version ===\n",
      "Pandas version: 2.3.0\n"
     ]
    }
   ],
   "execution_count": 3
  },
  {
   "metadata": {},
   "cell_type": "markdown",
   "source": [
    "\n",
    "### Getting the data\n",
    "\n",
    "For this homework, we'll use the Car Fuel Efficiency dataset. Download it from <a href='https://raw.githubusercontent.com/alexeygrigorev/datasets/master/car_fuel_efficiency.csv'>here</a>.\n",
    "\n",
    "You can do it with wget:\n",
    "```bash\n",
    "wget https://raw.githubusercontent.com/alexeygrigorev/datasets/master/car_fuel_efficiency.csv\n",
    "```\n",
    "\n",
    "Or just open it with your browser and click \"Save as...\".\n",
    "\n",
    "Now read it with Pandas.\n",
    "\n",
    "### Q2. Records count\n",
    "\n",
    "How many records are in the dataset?\n",
    "\n",
    "- 4704\n",
    "- 8704\n",
    "- 9704\n",
    "- 17704\n"
   ],
   "id": "ec15e1c5e7c07be6"
  },
  {
   "metadata": {
    "ExecuteTime": {
     "end_time": "2025-09-25T16:12:07.880400Z",
     "start_time": "2025-09-25T16:12:04.177214Z"
    }
   },
   "cell_type": "code",
   "source": [
    "# Load the dataset\n",
    "df = pd.read_csv('https://raw.githubusercontent.com/alexeygrigorev/datasets/master/car_fuel_efficiency.csv')\n",
    "\n",
    "print(\"\\n=== Q2. Records Count ===\")\n",
    "records_count = len(df)\n",
    "print(f\"Number of records in the dataset: {records_count}\")\n",
    "\n",
    "\n",
    "print(\"\\n=== Dataset Info ===\")\n",
    "print(df.head())\n",
    "print(\"\\nColumn names:\")\n",
    "print(df.columns.tolist())\n",
    "print(\"\\nData types:\")\n",
    "print(df.dtypes)"
   ],
   "id": "e64f25554e2ce76d",
   "outputs": [
    {
     "name": "stdout",
     "output_type": "stream",
     "text": [
      "\n",
      "=== Q2. Records Count ===\n",
      "Number of records in the dataset: 9704\n",
      "\n",
      "=== Dataset Info ===\n",
      "   engine_displacement  num_cylinders  horsepower  vehicle_weight  \\\n",
      "0                  170            3.0       159.0     3413.433759   \n",
      "1                  130            5.0        97.0     3149.664934   \n",
      "2                  170            NaN        78.0     3079.038997   \n",
      "3                  220            4.0         NaN     2542.392402   \n",
      "4                  210            1.0       140.0     3460.870990   \n",
      "\n",
      "   acceleration  model_year  origin fuel_type         drivetrain  num_doors  \\\n",
      "0          17.7        2003  Europe  Gasoline    All-wheel drive        0.0   \n",
      "1          17.8        2007     USA  Gasoline  Front-wheel drive        0.0   \n",
      "2          15.1        2018  Europe  Gasoline  Front-wheel drive        0.0   \n",
      "3          20.2        2009     USA    Diesel    All-wheel drive        2.0   \n",
      "4          14.4        2009  Europe  Gasoline    All-wheel drive        2.0   \n",
      "\n",
      "   fuel_efficiency_mpg  \n",
      "0            13.231729  \n",
      "1            13.688217  \n",
      "2            14.246341  \n",
      "3            16.912736  \n",
      "4            12.488369  \n",
      "\n",
      "Column names:\n",
      "['engine_displacement', 'num_cylinders', 'horsepower', 'vehicle_weight', 'acceleration', 'model_year', 'origin', 'fuel_type', 'drivetrain', 'num_doors', 'fuel_efficiency_mpg']\n",
      "\n",
      "Data types:\n",
      "engine_displacement      int64\n",
      "num_cylinders          float64\n",
      "horsepower             float64\n",
      "vehicle_weight         float64\n",
      "acceleration           float64\n",
      "model_year               int64\n",
      "origin                  object\n",
      "fuel_type               object\n",
      "drivetrain              object\n",
      "num_doors              float64\n",
      "fuel_efficiency_mpg    float64\n",
      "dtype: object\n"
     ]
    }
   ],
   "execution_count": 4
  },
  {
   "metadata": {},
   "cell_type": "markdown",
   "source": [
    "\n",
    "### Q3. Fuel types\n",
    "\n",
    "How many fuel types are presented in the dataset?\n",
    "\n",
    "- 1\n",
    "- 2\n",
    "- 3\n",
    "- 4"
   ],
   "id": "934933f0639fcd60"
  },
  {
   "metadata": {
    "ExecuteTime": {
     "end_time": "2025-09-25T16:15:41.657810Z",
     "start_time": "2025-09-25T16:15:41.647281Z"
    }
   },
   "cell_type": "code",
   "source": [
    "# Q3. Fuel types\n",
    "print(\"\\n=== Q3. Fuel Types ===\")\n",
    "fuel_types = df['fuel_type'].nunique()\n",
    "print(f\"Number of unique fuel types: {fuel_types}\")\n",
    "print(\"Fuel types:\")\n",
    "print(df['fuel_type'].value_counts())"
   ],
   "id": "ddafd7e735c202ea",
   "outputs": [
    {
     "name": "stdout",
     "output_type": "stream",
     "text": [
      "\n",
      "=== Q3. Fuel Types ===\n",
      "Number of unique fuel types: 2\n",
      "Fuel types:\n",
      "fuel_type\n",
      "Gasoline    4898\n",
      "Diesel      4806\n",
      "Name: count, dtype: int64\n"
     ]
    }
   ],
   "execution_count": 10
  },
  {
   "metadata": {},
   "cell_type": "markdown",
   "source": [
    "### Q4. Missing values\n",
    "\n",
    "How many columns in the dataset have missing values?\n",
    "\n",
    "- 0\n",
    "- 1\n",
    "- 2\n",
    "- 3\n",
    "- 4"
   ],
   "id": "58e982157e9c673e"
  },
  {
   "metadata": {
    "ExecuteTime": {
     "end_time": "2025-09-25T16:12:07.967614Z",
     "start_time": "2025-09-25T16:12:07.954373Z"
    }
   },
   "cell_type": "code",
   "source": [
    "# Q4. Missing values\n",
    "print(\"\\n=== Q4. Missing Values ===\")\n",
    "missing_values = df.isnull().sum()\n",
    "columns_with_missing = (missing_values > 0).sum()\n",
    "print(f\"Number of columns with missing values: {columns_with_missing}\")\n",
    "print(\"\\nMissing values per column:\")\n",
    "print(missing_values[missing_values > 0])"
   ],
   "id": "6d346797a1665160",
   "outputs": [
    {
     "name": "stdout",
     "output_type": "stream",
     "text": [
      "\n",
      "=== Q4. Missing Values ===\n",
      "Number of columns with missing values: 4\n",
      "\n",
      "Missing values per column:\n",
      "num_cylinders    482\n",
      "horsepower       708\n",
      "acceleration     930\n",
      "num_doors        502\n",
      "dtype: int64\n"
     ]
    }
   ],
   "execution_count": 5
  },
  {
   "metadata": {},
   "cell_type": "markdown",
   "source": [
    "### Q5. Max fuel efficiency\n",
    "\n",
    "What's the maximum fuel efficiency of cars from Asia?\n",
    "\n",
    "- 13.75\n",
    "- 23.75\n",
    "- 33.75\n",
    "- 43.75"
   ],
   "id": "e103005bf5497ec8"
  },
  {
   "metadata": {
    "ExecuteTime": {
     "end_time": "2025-09-25T16:12:08.028885Z",
     "start_time": "2025-09-25T16:12:08.016540Z"
    }
   },
   "cell_type": "code",
   "source": [
    "print(\"\\n=== Q5. Max Fuel Efficiency from Asia ===\")\n",
    "asia_cars = df[df['origin'] == 'Asia']\n",
    "max_fuel_efficiency_asia = asia_cars['fuel_efficiency_mpg'].max()\n",
    "print(f\"Maximum fuel efficiency of cars from Asia: {max_fuel_efficiency_asia}\")\n"
   ],
   "id": "d12ddf6c8b1ef0fb",
   "outputs": [
    {
     "name": "stdout",
     "output_type": "stream",
     "text": [
      "\n",
      "=== Q5. Max Fuel Efficiency from Asia ===\n",
      "Maximum fuel efficiency of cars from Asia: 23.759122836520497\n"
     ]
    }
   ],
   "execution_count": 6
  },
  {
   "metadata": {},
   "cell_type": "markdown",
   "source": [
    "### Q6. Median value of horsepower\n",
    "\n",
    "\n",
    "\n",
    "1. Find the median value of `horsepower` column in the dataset.\n",
    "2. Next, calculate the most frequent value of the same `horsepower` column.\n",
    "3. Use `fillna` method to fill the missing values in `horsepower` column with the most frequent value from the previous step.\n",
    "4. Now, calculate the median value of `horsepower` once again.\n",
    "\n",
    "Has it changed?\n",
    "\n",
    "\n",
    "- Yes, it increased\n",
    "- Yes, it decreased\n",
    "- No\n",
    "\n"
   ],
   "id": "1f10fccd7a5e4b58"
  },
  {
   "metadata": {
    "ExecuteTime": {
     "end_time": "2025-09-25T16:12:08.167852Z",
     "start_time": "2025-09-25T16:12:08.154210Z"
    }
   },
   "cell_type": "code",
   "source": [
    "print(\"\\n=== Q6. Median Horsepower Analysis ===\")\n",
    "\n",
    "# Step 1: Find the median value of horsepower column\n",
    "median_hp_original = df['horsepower'].median()\n",
    "print(f\"1. Original median horsepower: {median_hp_original}\")\n",
    "\n",
    "# Step 2: Calculate the most frequent value of horsepower column\n",
    "most_frequent_hp = df['horsepower'].mode()[0]\n",
    "print(f\"2. Most frequent horsepower value: {most_frequent_hp}\")\n",
    "\n",
    "# Step 3: Fill missing values with the most frequent value\n",
    "df_filled = df.copy()\n",
    "df_filled['horsepower'] = df_filled['horsepower'].fillna(most_frequent_hp)\n",
    "\n",
    "# Step 4: Calculate the median value of horsepower again\n",
    "median_hp_after_fill = df_filled['horsepower'].median()\n",
    "print(f\"4. Median horsepower after filling missing values: {median_hp_after_fill}\")\n",
    "\n",
    "print(f\"Has the median changed? No\")\n"
   ],
   "id": "cc90a89702eb96f6",
   "outputs": [
    {
     "name": "stdout",
     "output_type": "stream",
     "text": [
      "\n",
      "=== Q6. Median Horsepower Analysis ===\n",
      "1. Original median horsepower: 149.0\n",
      "2. Most frequent horsepower value: 152.0\n",
      "4. Median horsepower after filling missing values: 152.0\n",
      "Has the median changed? No\n"
     ]
    }
   ],
   "execution_count": 7
  },
  {
   "metadata": {},
   "cell_type": "markdown",
   "source": [
    "### Q7. Sum of weights\n",
    "\n",
    "1. Select all the cars from Asia\n",
    "2. Select only columns `vehicle_weight` and `model_year`\n",
    "3. Select the first 7 values\n",
    "4. Get the underlying NumPy array. Let's call it `X`.\n",
    "5. Compute matrix-matrix multiplication between the transpose of `X` and `X`. To get the transpose, use `X.T`. Let's call the result `XTX`.\n",
    "6. Invert `XTX`.\n",
    "7. Create an array `y` with values `[1100, 1300, 800, 900, 1000, 1100, 1200]`.\n",
    "8. Multiply the inverse of `XTX` with the transpose of `X`, and then multiply the result by `y`. Call the result `w`.\n",
    "9. What's the sum of all the elements of the result?\n",
    "\n",
    "> **Note**: You just implemented linear regression. We'll talk about it in the next lesson.\n",
    "\n",
    "- 0.051\n",
    "- 0.51\n",
    "- 5.1\n",
    "- 51"
   ],
   "id": "c72edca17e255da0"
  },
  {
   "metadata": {
    "ExecuteTime": {
     "end_time": "2025-09-25T16:12:08.252024Z",
     "start_time": "2025-09-25T16:12:08.230305Z"
    }
   },
   "cell_type": "code",
   "source": [
    "print(\"\\n=== Q7. Sum of Weights (Linear Regression) ===\")\n",
    "\n",
    "# Step 1: Select all cars from Asia\n",
    "asia_cars = df[df['origin'] == 'Asia']\n",
    "print(f\"1. Number of cars from Asia: {len(asia_cars)}\")\n",
    "\n",
    "# Step 2: Select only columns 'vehicle_weight' and 'model_year'\n",
    "selected_cols = asia_cars[['vehicle_weight', 'model_year']]\n",
    "print(\"2. Selected columns: vehicle_weight and model_year\")\n",
    "\n",
    "# Step 3: Select the first 7 values\n",
    "first_7 = selected_cols.head(7)\n",
    "print(\"3. First 7 values:\")\n",
    "print(first_7)\n",
    "\n",
    "# Step 4: Get the underlying NumPy array\n",
    "X = first_7.values\n",
    "print(f\"4. X shape: {X.shape}\")\n",
    "print(\"X array:\")\n",
    "print(X)\n",
    "\n",
    "# Step 5: Compute matrix-matrix multiplication between transpose of X and X\n",
    "XTX = X.T @ X  # Same as np.dot(X.T, X)\n",
    "print(\"5. XTX (X transpose times X):\")\n",
    "print(XTX)\n",
    "\n",
    "# Step 6: Invert XTX\n",
    "XTX_inv = np.linalg.inv(XTX)\n",
    "print(\"6. Inverse of XTX:\")\n",
    "print(XTX_inv)\n",
    "\n",
    "# Step 7: Create array y\n",
    "y = np.array([1100, 1300, 800, 900, 1000, 1100, 1200])\n",
    "print(f\"7. y array: {y}\")\n",
    "\n",
    "# Step 8: Multiply inverse of XTX with transpose of X, then multiply by y\n",
    "w = XTX_inv @ X.T @ y\n",
    "print(\"8. w (weights):\")\n",
    "print(w)\n",
    "\n",
    "# Step 9: Sum of all elements\n",
    "sum_w = w.sum()\n",
    "print(f\"9. Sum of all elements in w: {sum_w}\")"
   ],
   "id": "590068edcf36953b",
   "outputs": [
    {
     "name": "stdout",
     "output_type": "stream",
     "text": [
      "\n",
      "=== Q7. Sum of Weights (Linear Regression) ===\n",
      "1. Number of cars from Asia: 3247\n",
      "2. Selected columns: vehicle_weight and model_year\n",
      "3. First 7 values:\n",
      "    vehicle_weight  model_year\n",
      "8      2714.219310        2016\n",
      "12     2783.868974        2010\n",
      "14     3582.687368        2007\n",
      "20     2231.808142        2011\n",
      "21     2659.431451        2016\n",
      "34     2844.227534        2014\n",
      "38     3761.994038        2019\n",
      "4. X shape: (7, 2)\n",
      "X array:\n",
      "[[2714.21930965 2016.        ]\n",
      " [2783.86897424 2010.        ]\n",
      " [3582.68736772 2007.        ]\n",
      " [2231.8081416  2011.        ]\n",
      " [2659.43145076 2016.        ]\n",
      " [2844.22753389 2014.        ]\n",
      " [3761.99403819 2019.        ]]\n",
      "5. XTX (X transpose times X):\n",
      "[[62248334.33150762 41431216.5073268 ]\n",
      " [41431216.5073268  28373339.        ]]\n",
      "6. Inverse of XTX:\n",
      "[[ 5.71497081e-07 -8.34509443e-07]\n",
      " [-8.34509443e-07  1.25380877e-06]]\n",
      "7. y array: [1100 1300  800  900 1000 1100 1200]\n",
      "8. w (weights):\n",
      "[0.01386421 0.5049067 ]\n",
      "9. Sum of all elements in w: 0.5187709081074016\n"
     ]
    }
   ],
   "execution_count": 8
  },
  {
   "metadata": {
    "ExecuteTime": {
     "end_time": "2025-09-25T16:21:08.614055Z",
     "start_time": "2025-09-25T16:21:07.997295Z"
    }
   },
   "cell_type": "code",
   "source": [
    "# Plot the data points and fitted line\n",
    "fig, (ax1, ax2) = plt.subplots(1, 2, figsize=(15, 6))\n",
    "\n",
    "# Plot 1: Weight vs Target\n",
    "ax1.scatter(X[:, 0], y, color='red', s=100, alpha=0.7, edgecolors='black', label='Data points')\n",
    "# Predicted values using the linear model: y_pred = w[0]*weight + w[1]*year\n",
    "y_pred = X @ w\n",
    "ax1.scatter(X[:, 0], y_pred, color='blue', s=100, alpha=0.7, edgecolors='black', label='Predicted')\n",
    "ax1.set_xlabel('Vehicle Weight')\n",
    "ax1.set_ylabel('Target Value')\n",
    "ax1.set_title('Vehicle Weight vs Target Value')\n",
    "ax1.legend()\n",
    "ax1.grid(True, alpha=0.3)\n",
    "\n",
    "# Plot 2: Model Year vs Target\n",
    "ax2.scatter(X[:, 1], y, color='red', s=100, alpha=0.7, edgecolors='black', label='Data points')\n",
    "ax2.scatter(X[:, 1], y_pred, color='blue', s=100, alpha=0.7, edgecolors='black', label='Predicted')\n",
    "ax2.set_xlabel('Model Year')\n",
    "ax2.set_ylabel('Target Value')\n",
    "ax2.set_title('Model Year vs Target Value')\n",
    "ax2.legend()\n",
    "ax2.grid(True, alpha=0.3)\n",
    "\n",
    "plt.tight_layout()\n",
    "plt.show()"
   ],
   "id": "ef5f0e5f1cf1373c",
   "outputs": [
    {
     "data": {
      "text/plain": [
       "<Figure size 1500x600 with 2 Axes>"
      ],
      "image/png": "[encoded data removed]"
     },
     "metadata": {},
     "output_type": "display_data"
    }
   ],
   "execution_count": 13
  }
 ],
 "metadata": {
  "kernelspec": {
   "display_name": "Python 3",
   "language": "python",
   "name": "python3"
  },
  "language_info": {
   "codemirror_mode": {
    "name": "ipython",
    "version": 2
   },
   "file_extension": ".py",
   "mimetype": "text/x-python",
   "name": "python",
   "nbconvert_exporter": "python",
   "pygments_lexer": "ipython2",
   "version": "2.7.6"
  }
 },
 "nbformat": 4,
 "nbformat_minor": 5
}
