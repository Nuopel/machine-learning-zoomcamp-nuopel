{
 "cells": [
  {
   "cell_type": "code",
   "metadata": {
    "ExecuteTime": {
     "end_time": "2025-06-25T10:16:21.149102Z",
     "start_time": "2025-06-25T10:16:21.144217Z"
    }
   },
   "source": [
    "import pandas as pd\n",
    "import numpy as np\n",
    "\n",
    "\n",
    "from sklearn.feature_extraction import DictVectorizer\n",
    "from sklearn.linear_model import LogisticRegression\n",
    "\n",
    "from sklearn.model_selection import train_test_split\n",
    "from sklearn.metrics import roc_auc_score\n",
    "\n",
    "import pickle \n",
    "import requests"
   ],
   "outputs": [],
   "execution_count": 39
  },
  {
   "cell_type": "code",
   "metadata": {
    "ExecuteTime": {
     "end_time": "2025-06-25T10:16:21.247463Z",
     "start_time": "2025-06-25T10:16:21.239183Z"
    }
   },
   "source": [
    "from sklearn.preprocessing import StandardScaler\n",
    "\n",
    "def printest(args, value):\n",
    "    return print( \"{} : \\n {} \\n\".format(args, value) )\n",
    "def train(df, y, C=1.0):\n",
    "    cat = df[categorical + numerical].to_dict(orient='records')\n",
    "\n",
    "    dv = DictVectorizer(sparse=False)\n",
    "    X = dv.fit_transform(cat)\n",
    "    model = LogisticRegression(solver='liblinear', C=C)\n",
    "    model.fit(X, y)\n",
    "\n",
    "    return dv, model\n",
    "\n",
    "\n",
    "def predict(df, dv, model):\n",
    "    cat = df[categorical + numerical].to_dict(orient='records')\n",
    "\n",
    "    X = dv.transform(cat)\n",
    "\n",
    "    y_pred = model.predict_proba(X)[:, 1]\n",
    "\n",
    "    return y_pred\n",
    "\n",
    "def predict_single(customer, dv, model):\n",
    "    X = dv.transform([customer])\n",
    "    y_pred = model.predict_proba(X)[:, 1]\n",
    "    return y_pred[0]"
   ],
   "outputs": [],
   "execution_count": 40
  },
  {
   "attachments": {},
   "cell_type": "markdown",
   "metadata": {},
   "source": [
    "# Model to Deploy\n",
    "## Load and arrandge the data base for training purpose"
   ]
  },
  {
   "cell_type": "code",
   "metadata": {
    "ExecuteTime": {
     "end_time": "2025-06-25T10:16:21.481338Z",
     "start_time": "2025-06-25T10:16:21.332463Z"
    }
   },
   "source": [
    "# Load the dataset\n",
    "df = pd.read_csv('./Data/WA_Fn-UseC_-Telco-Customer-Churn.csv')\n",
    "\n",
    "# Standardize column names: lowercase and replace spaces with underscores\n",
    "df.columns = df.columns.str.lower().str.replace(' ', '_')\n",
    "\n",
    "# Identify all columns of type 'object' (i.e., strings/categorical)\n",
    "categorical_columns = list(df.dtypes[df.dtypes == 'object'].index)\n",
    "\n",
    "# Normalize all string values: lowercase and replace spaces with underscores\n",
    "for c in categorical_columns:\n",
    "    df[c] = df[c].str.lower().str.replace(' ', '_')\n",
    "\n",
    "# Convert the 'totalcharges' column to numeric (some entries may be invalid)\n",
    "# Invalid parsing results in NaN, which we then replace with 0\n",
    "df.totalcharges = pd.to_numeric(df.totalcharges, errors='coerce')\n",
    "df.totalcharges = df.totalcharges.fillna(0)\n",
    "\n",
    "# Convert 'churn' column to binary: 1 if 'yes', else 0\n",
    "df.churn = (df.churn == 'yes').astype(int)"
   ],
   "outputs": [],
   "execution_count": 41
  },
  {
   "metadata": {},
   "cell_type": "markdown",
   "source": "## Split the model in Train, and Test parts(validation done last time)"
  },
  {
   "cell_type": "code",
   "metadata": {
    "ExecuteTime": {
     "end_time": "2025-06-25T10:16:21.557931Z",
     "start_time": "2025-06-25T10:16:21.531961Z"
    }
   },
   "source": [
    "\n",
    "# Split the dataset into train+val (80%) and test (20%)\n",
    "df_train_full, df_test = train_test_split(df, test_size=0.2, random_state=1)\n",
    "\n",
    "# Reset row indices for consistency\n",
    "df_train_full = df_train_full.reset_index(drop=True)\n",
    "df_test = df_test.reset_index(drop=True)\n",
    "\n",
    "# Extract target labels for each split (before deleting)\n",
    "y_train_full = df_train_full.churn.values\n",
    "y_test = df_test.churn.values\n",
    "\n",
    "# Remove target column from features to isolate input features\n",
    "del df_train_full['churn']\n",
    "del df_test['churn']\n"
   ],
   "outputs": [],
   "execution_count": 42
  },
  {
   "cell_type": "code",
   "metadata": {
    "ExecuteTime": {
     "end_time": "2025-06-25T10:16:21.650485Z",
     "start_time": "2025-06-25T10:16:21.628796Z"
    }
   },
   "source": [
    "# All categorical columns except 'customerid'\n",
    "categorical_mask = df_train_full.dtypes == 'object'\n",
    "categorical = list(df_train_full.dtypes[categorical_mask].index)\n",
    "categorical.remove('customerid') \n",
    "\n",
    "# Manually add 'seniorcitizen' because it's an int boolean (0 or 1)\n",
    "categorical.append('seniorcitizen')\n",
    "printest('categorical', categorical)\n",
    "\n",
    "# All numerical columns except 'seniorcitizen' because it's an int boolean\n",
    "numerical_mask = df_train_full.dtypes != 'object'\n",
    "numerical = list(df_train_full.dtypes[numerical_mask].index)\n",
    "numerical.remove('seniorcitizen')\n",
    "printest('numerical', numerical)\n",
    "\n",
    "df_train_full[numerical]"
   ],
   "outputs": [
    {
     "name": "stdout",
     "output_type": "stream",
     "text": [
      "categorical : \n",
      " ['gender', 'partner', 'dependents', 'phoneservice', 'multiplelines', 'internetservice', 'onlinesecurity', 'onlinebackup', 'deviceprotection', 'techsupport', 'streamingtv', 'streamingmovies', 'contract', 'paperlessbilling', 'paymentmethod', 'seniorcitizen'] \n",
      "\n",
      "numerical : \n",
      " ['tenure', 'monthlycharges', 'totalcharges'] \n",
      "\n"
     ]
    },
    {
     "data": {
      "text/plain": [
       "      tenure  monthlycharges  totalcharges\n",
       "0         12           19.70        258.35\n",
       "1         42           73.90       3160.55\n",
       "2         71           65.15       4681.75\n",
       "3         71           85.45       6300.85\n",
       "4         30           70.40       2044.75\n",
       "...      ...             ...           ...\n",
       "5629       9          100.50        918.60\n",
       "5630      60           19.95       1189.90\n",
       "5631      28          105.70       2979.50\n",
       "5632       2           54.40        114.10\n",
       "5633      16           68.25       1114.85\n",
       "\n",
       "[5634 rows x 3 columns]"
      ],
      "text/html": [
       "<div>\n",
       "<style scoped>\n",
       "    .dataframe tbody tr th:only-of-type {\n",
       "        vertical-align: middle;\n",
       "    }\n",
       "\n",
       "    .dataframe tbody tr th {\n",
       "        vertical-align: top;\n",
       "    }\n",
       "\n",
       "    .dataframe thead th {\n",
       "        text-align: right;\n",
       "    }\n",
       "</style>\n",
       "<table border=\"1\" class=\"dataframe\">\n",
       "  <thead>\n",
       "    <tr style=\"text-align: right;\">\n",
       "      <th></th>\n",
       "      <th>tenure</th>\n",
       "      <th>monthlycharges</th>\n",
       "      <th>totalcharges</th>\n",
       "    </tr>\n",
       "  </thead>\n",
       "  <tbody>\n",
       "    <tr>\n",
       "      <th>0</th>\n",
       "      <td>12</td>\n",
       "      <td>19.70</td>\n",
       "      <td>258.35</td>\n",
       "    </tr>\n",
       "    <tr>\n",
       "      <th>1</th>\n",
       "      <td>42</td>\n",
       "      <td>73.90</td>\n",
       "      <td>3160.55</td>\n",
       "    </tr>\n",
       "    <tr>\n",
       "      <th>2</th>\n",
       "      <td>71</td>\n",
       "      <td>65.15</td>\n",
       "      <td>4681.75</td>\n",
       "    </tr>\n",
       "    <tr>\n",
       "      <th>3</th>\n",
       "      <td>71</td>\n",
       "      <td>85.45</td>\n",
       "      <td>6300.85</td>\n",
       "    </tr>\n",
       "    <tr>\n",
       "      <th>4</th>\n",
       "      <td>30</td>\n",
       "      <td>70.40</td>\n",
       "      <td>2044.75</td>\n",
       "    </tr>\n",
       "    <tr>\n",
       "      <th>...</th>\n",
       "      <td>...</td>\n",
       "      <td>...</td>\n",
       "      <td>...</td>\n",
       "    </tr>\n",
       "    <tr>\n",
       "      <th>5629</th>\n",
       "      <td>9</td>\n",
       "      <td>100.50</td>\n",
       "      <td>918.60</td>\n",
       "    </tr>\n",
       "    <tr>\n",
       "      <th>5630</th>\n",
       "      <td>60</td>\n",
       "      <td>19.95</td>\n",
       "      <td>1189.90</td>\n",
       "    </tr>\n",
       "    <tr>\n",
       "      <th>5631</th>\n",
       "      <td>28</td>\n",
       "      <td>105.70</td>\n",
       "      <td>2979.50</td>\n",
       "    </tr>\n",
       "    <tr>\n",
       "      <th>5632</th>\n",
       "      <td>2</td>\n",
       "      <td>54.40</td>\n",
       "      <td>114.10</td>\n",
       "    </tr>\n",
       "    <tr>\n",
       "      <th>5633</th>\n",
       "      <td>16</td>\n",
       "      <td>68.25</td>\n",
       "      <td>1114.85</td>\n",
       "    </tr>\n",
       "  </tbody>\n",
       "</table>\n",
       "<p>5634 rows × 3 columns</p>\n",
       "</div>"
      ]
     },
     "execution_count": 43,
     "metadata": {},
     "output_type": "execute_result"
    }
   ],
   "execution_count": 43
  },
  {
   "cell_type": "code",
   "metadata": {
    "ExecuteTime": {
     "end_time": "2025-06-25T10:16:22.178142Z",
     "start_time": "2025-06-25T10:16:21.804576Z"
    }
   },
   "source": [
    "dv, model = train(df_train_full, y_train_full, C=0.5)\n",
    "y_pred = predict(df_test, dv, model)\n",
    "\n",
    "auc = roc_auc_score(y_test, y_pred)\n",
    "print('auc = %.3f' % auc)\n"
   ],
   "outputs": [
    {
     "name": "stdout",
     "output_type": "stream",
     "text": [
      "auc = 0.858\n"
     ]
    }
   ],
   "execution_count": 44
  },
  {
   "attachments": {},
   "cell_type": "markdown",
   "metadata": {},
   "source": [
    "**Saving the model**"
   ]
  },
  {
   "cell_type": "code",
   "metadata": {
    "ExecuteTime": {
     "end_time": "2025-06-25T10:17:50.431687Z",
     "start_time": "2025-06-25T10:17:50.348946Z"
    }
   },
   "source": [
    "# wb: write binary\n",
    "with open('churn_model.bin', 'wb') as f_out:\n",
    "    # tuple of saved objects\n",
    "    pickle.dump((dv, model), f_out)\n",
    "\n",
    "# Load\n",
    "with open('churn_model.bin', 'rb') as f_in:\n",
    "    dv2, model2 = pickle.load(f_in)\n",
    "\n",
    "y_pred2 = predict(df_test, dv2, model2)\n",
    "auc = roc_auc_score(y_test, y_pred2)\n",
    "print('auc = %.3f' % auc)\n"
   ],
   "outputs": [
    {
     "name": "stdout",
     "output_type": "stream",
     "text": [
      "auc = 0.858\n"
     ]
    }
   ],
   "execution_count": 47
  },
  {
   "attachments": {},
   "cell_type": "markdown",
   "metadata": {},
   "source": [
    "This script print out the response from the server, which will be a dictionary containing the churn probability and churn prediction for the provided customer data."
   ]
  },
  {
   "cell_type": "code",
   "metadata": {
    "ExecuteTime": {
     "end_time": "2025-06-25T10:58:09.947182Z",
     "start_time": "2025-06-25T10:58:09.930350Z"
    }
   },
   "source": [
    "customer = {\n",
    "  'customerid': '8879-zkjof',\n",
    "  'gender': 'female',\n",
    "  'seniorcitizen': 0,\n",
    "  'partner': 'no',\n",
    "  'dependents': 'no',\n",
    "  'tenure': 41,\n",
    "  'phoneservice': 'yes',\n",
    "  'multiplelines': 'no',\n",
    "  'internetservice': 'dsl',\n",
    "  'onlinesecurity': 'yes',\n",
    "  'onlinebackup': 'no',\n",
    "  'deviceprotection': 'yes',\n",
    "  'techsupport': 'yes',\n",
    "  'streamingtv': 'yes',\n",
    "  'streamingmovies': 'yes',\n",
    "  'contract': 'one_year',\n",
    "  'paperlessbilling': 'yes',\n",
    "  'paymentmethod': 'bank_transfer_(automatic)',\n",
    "  'monthlycharges': 79.85,\n",
    "  'totalcharges': 3320.75\n",
    "}\n",
    "url = 'http://localhost:9696/predict'\n",
    "response = requests.post(url, json=customer)\n",
    "result = response.json()\n",
    "print(result)"
   ],
   "outputs": [
    {
     "name": "stdout",
     "output_type": "stream",
     "text": [
      "{'churn': False, 'churn_probability': 0.05960570371897223}\n"
     ]
    }
   ],
   "execution_count": 50
  },
  {
   "metadata": {},
   "cell_type": "code",
   "outputs": [],
   "execution_count": null,
   "source": ""
  }
 ],
 "metadata": {
  "kernelspec": {
   "display_name": "Python 3",
   "language": "python",
   "name": "python3"
  },
  "language_info": {
   "codemirror_mode": {
    "name": "ipython",
    "version": 3
   },
   "file_extension": ".py",
   "mimetype": "text/x-python",
   "name": "python",
   "nbconvert_exporter": "python",
   "pygments_lexer": "ipython3",
   "version": "3.10.2"
  },
  "orig_nbformat": 4,
  "vscode": {
   "interpreter": {
    "hash": "0743c798041383927c03f3bae5eca888e94e4777f716cdd511cdff96fbdedc02"
   }
  }
 },
 "nbformat": 4,
 "nbformat_minor": 2
}
